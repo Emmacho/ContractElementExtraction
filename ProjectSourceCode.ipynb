{
  "nbformat": 4,
  "nbformat_minor": 0,
  "metadata": {
    "colab": {
      "name": "Untitled2.ipynb",
      "provenance": [],
      "collapsed_sections": [],
      "toc_visible": true,
      "machine_shape": "hm",
      "authorship_tag": "ABX9TyP2OVxUzVmz7GCBu7ay6Oyg",
      "include_colab_link": true
    },
    "kernelspec": {
      "name": "python3",
      "display_name": "Python 3"
    },
    "accelerator": "GPU"
  },
  "cells": [
    {
      "cell_type": "markdown",
      "metadata": {
        "id": "view-in-github",
        "colab_type": "text"
      },
      "source": [
        "<a href=\"https://colab.research.google.com/github/Emmcho/ContractElementExtraction/blob/master/Untitled2.ipynb\" target=\"_parent\"><img src=\"https://colab.research.google.com/assets/colab-badge.svg\" alt=\"Open In Colab\"/></a>"
      ]
    },
    {
      "cell_type": "markdown",
      "metadata": {
        "id": "xIGooRjxCkP2",
        "colab_type": "text"
      },
      "source": [
        "# New Section"
      ]
    },
    {
      "cell_type": "markdown",
      "metadata": {
        "id": "ixSYzpuICvfa",
        "colab_type": "text"
      },
      "source": [
        "Preprocessing of the encoded labelled dataset"
      ]
    },
    {
      "cell_type": "code",
      "metadata": {
        "id": "BZQV4jrFKrIG",
        "colab_type": "code",
        "colab": {}
      },
      "source": [
        "import glob\n",
        "import pandas as pd\n"
      ],
      "execution_count": 0,
      "outputs": []
    },
    {
      "cell_type": "markdown",
      "metadata": {
        "id": "GbtiRoxuC5Pw",
        "colab_type": "text"
      },
      "source": [
        "Mounting of Goodle drive in order to read the dataset. The dataset cannot be read directly because of its huge size"
      ]
    },
    {
      "cell_type": "code",
      "metadata": {
        "id": "DHwECbNYCmif",
        "colab_type": "code",
        "colab": {
          "base_uri": "https://localhost:8080/",
          "height": 122
        },
        "outputId": "99d0258b-0775-4c6a-e7e8-69c2f33d1b72"
      },
      "source": [
        "from google.colab import drive\n",
        "drive.mount('/content/drive')"
      ],
      "execution_count": 3,
      "outputs": [
        {
          "output_type": "stream",
          "text": [
            "Go to this URL in a browser: https://accounts.google.com/o/oauth2/auth?client_id=947318989803-6bn6qk8qdgf4n4g3pfee6491hc0brc4i.apps.googleusercontent.com&redirect_uri=urn%3aietf%3awg%3aoauth%3a2.0%3aoob&response_type=code&scope=email%20https%3a%2f%2fwww.googleapis.com%2fauth%2fdocs.test%20https%3a%2f%2fwww.googleapis.com%2fauth%2fdrive%20https%3a%2f%2fwww.googleapis.com%2fauth%2fdrive.photos.readonly%20https%3a%2f%2fwww.googleapis.com%2fauth%2fpeopleapi.readonly\n",
            "\n",
            "Enter your authorization code:\n",
            "··········\n",
            "Mounted at /content/drive\n"
          ],
          "name": "stdout"
        }
      ]
    },
    {
      "cell_type": "markdown",
      "metadata": {
        "id": "StjJLxHYDNAd",
        "colab_type": "text"
      },
      "source": [
        "Reading of the training dataset"
      ]
    },
    {
      "cell_type": "code",
      "metadata": {
        "id": "mi4TC1KAIr1r",
        "colab_type": "code",
        "colab": {}
      },
      "source": [
        "ele_c_tr=[]\n",
        "path = \"/content/drive/My Drive/ContractDataset/elements_contracts/train/*.stabilo\"\n",
        "files = glob.glob(path)   \n",
        "for file in files:     \n",
        "    f=open(file, 'r') \n",
        "    ele_c_tr.append(f.readlines())\n",
        "    f.close()"
      ],
      "execution_count": 0,
      "outputs": []
    },
    {
      "cell_type": "code",
      "metadata": {
        "id": "Ecy42rZNIcdy",
        "colab_type": "code",
        "colab": {}
      },
      "source": [
        "ele_c_tr=[[j.split() for j in i] for i in ele_c_tr]"
      ],
      "execution_count": 0,
      "outputs": []
    },
    {
      "cell_type": "code",
      "metadata": {
        "id": "tyKDNoYmNiED",
        "colab_type": "code",
        "colab": {}
      },
      "source": [
        "for i in ele_c_tr:\n",
        "    for j in i:\n",
        "        j.append(\"TOKEN_170965[0]\")"
      ],
      "execution_count": 0,
      "outputs": []
    },
    {
      "cell_type": "code",
      "metadata": {
        "id": "2UZCgiKyVZnj",
        "colab_type": "code",
        "colab": {}
      },
      "source": [
        "X=[]\n",
        "y=[]\n",
        "for i in ele_c_tr:\n",
        "    x=[]\n",
        "    Y=[]\n",
        "    for j in i:\n",
        "        for k in j:\n",
        "            x.append(k[6:k.find('[')])\n",
        "            Y.append(k[k.find('['):])\n",
        "    X.append(x)\n",
        "    y.append(Y)"
      ],
      "execution_count": 0,
      "outputs": []
    },
    {
      "cell_type": "markdown",
      "metadata": {
        "id": "9_D_IG7ADTWK",
        "colab_type": "text"
      },
      "source": [
        "Viewing the returned data"
      ]
    },
    {
      "cell_type": "code",
      "metadata": {
        "id": "_8Ct8Zw4wsH_",
        "colab_type": "code",
        "colab": {
          "base_uri": "https://localhost:8080/",
          "height": 54
        },
        "outputId": "a8072a55-9a9b-46dd-c196-2ff9bb5b9a16"
      },
      "source": [
        "print (X[0])"
      ],
      "execution_count": 14,
      "outputs": [
        {
          "output_type": "stream",
          "text": [
            "['170965', '170965', '3840', '2115', '6', '170965', '170965', '485', '3840', '2115', '6', '57', '263', '58', '189', '60', '61', '17', '18', '22', '1110', '21', '24', '25', '87', '2984', '19', '30', '19', '31', '87915', '19', '414', '19', '66', '67', '68', '57', '58', '8104', '60', '61', '19', '22', '87916', '4311', '19', '66', '18535', '68', '57', '58', '2131', '60', '61', '252', '170965', '170965', '103', '19', '8104', '4755', '87917', '1146', '168', '25', '36130', '29644', '4310', '42954', '7663', '19', '66', '6090', '68', '57', '58', '87918', '60', '61', '57', '26', '58', '286', '60', '61', '19', '3031', '956', '957', '25', '26', '768', '2203', '22', '628', '168', '25', '87918', '102', '170965', '170965', '103', '19', '2131', '4755', '87919', '1146', '168', '25', '87918', '19', '3031', '1262', '957', '25', '26', '768', '2203', '22', '628', '168', '25', '87918', '102', '22', '170965', '170965', '103', '19', '8104', '4154', '91', '664', '91', '2131', '22', '2131', '4154', '91', '911', '520', '8104', '26', '286', '102', '170965', '170965', '240', '19', '241', '19', '26', '219', '683', '1561', '24', '251', '32', '170965', '170965', '254', '252', '3333', '22', '827', '25', '26', '436', '170965', '170965', '8104', '558', '2098', '91', '664', '91', '2131', '22', '2131', '894', '2098', '91', '911', '520', '8104', '390', '25', '8151', '518', '19', '2376', '22', '367', '44', '22', '91', '26', '286', '51', '66', '341', '705', '25', '87920', '637', '87921', '19', '1094', '44', '132', '7702', '208', '26', '1445', '2217', '1628', '25', '87922', '57', '51', '66', '5587', '25', '132', '637', '87923', '61', '57', '26', '58', '2479', '2482', '60', '61', '252', '170965', '170965', '437', '252', '2161', '170965', '170965', '506', '508', '2161', '252', '508', '1973', '25', '26', '341', '22', '318', '25', '26', '286', '57', '26', '58', '2544', '60', '61', '321', '922', '208', '26', '3292', '25', '16585', '41963', '41964', '2118', '41965', '19', '14031', '252', '44', '19615', '19616', '19', '8617', '15718', '86', '87', '633', '19', '30', '195', '364', '400', '292', '22', '3293', '24', '26', '219', '205', '2702', '6181', '252', '170965', '170965', '533', '2161', '3001', '252', '508', '902', '1376', '321', '206', '554', '124', '26', '219', '208', '26', '2161', '32', '170965', '170965', '57', '66', '61', '7083', '25', '1617', '51', '26', '286', '252', '8104', '321', '636', '91', '2131', '26', '1002', '430', '3031', '26', '865', '252', '170965', '170965', '57', '284', '61', '2529', '25', '2479', '2482', '252', '2131', '321', '667', '91', '8104', '26', '2479', '2482', '124', '7725', '150', '25', '2531', '1068', '1326', '91', '26', '902', '3349', '1116', '25', '26', '8203', '32', '170965', '170965', '254', '170965', '170965', '2137', '2797', '32', '12711', '19', '1517', '252', '170965', '170965', '2137', '8647', '32', '80873', '4403', '4247', '19', '2909', '2909', '73707', '170965', '170965', '2137', '47831', '4110', '32', '87924', '170965', '170965', '354', '3778', '2797', '32', '87915', '19', '5916', '252', '170965', '170965', '354', '3778', '371', '252', '32', '87925', '170965', '170965', '57', '298', '61', '1695', '25', '7163', '2566', '189', '252', '508', '219', '321', '1159', '22', '636', '26', '1695', '25', '7163', '2566', '189', '1682', '44', '26', '1810', '3036', '1979', '24', '3011', '3037', '252', '170965', '170965', '582', '252', '2172', '22', '1925', '25', '8104', '170965', '170965', '8104', '558', '1939', '22', '1940', '91', '2131', '24', '251', '32', '170965', '170965', '57', '66', '61', '4799', '252', '8104', '17', '435', '3047', '19', '166', '2191', '22', '44', '556', '2192', '408', '26', '914', '25', '67', '252', '57', '284', '61', '9869', '252', '508', '635', '22', '537', '124', '8104', '25', '263', '189', '22', '2831', '25', '26', '177', '2561', '7748', '183', '349', '435', '423', '124', '390', '1942', '553', '86', '26', '467', '25', '8104', '252', '485', '189', '42', '349', '435', '1183', '22', '296', '124', '8104', '22', '486', '66', '1934', '22', '1935', '1936', '25', '8104', '44', '560', '179', '78', '185', '252', '57', '298', '61', '20097', '22', '17173', '252', '1118', '1277', '91', '19', '125', '179', '19', '195', '329', '19', '1041', '195', '1205', '25', '209', '1336', '314', '19', '6519', '195', '2255', '19', '17', '323', '51', '26', '2831', '124', '8104', '25', '26', '177', '849', '124', '263', '189', '252', '57', '320', '61', '2798', '91', '286', '252', '8104', '42', '556', '22', '1934', '2376', '91', '26', '286', '19', '2204', '22', '2205', '25', '390', '1955', '19', '1956', '19', '2206', '195', '392', '252', '508', '635', '25', '263', '189', '22', '209', '400', '1911', '25', '150', '91', '206', '1183', '22', '296', '124', '8104', '91', '2131', '156', '2327', '91', '6781', '91', '2131', '556', '22', '1934', '2376', '91', '26', '286', '19', '2204', '22', '2205', '25', '390', '1955', '19', '1956', '19', '2206', '195', '392', '252', '530', '252', '2172', '22', '1925', '25', '2131', '170965', '170965', '2131', '558', '1939', '22', '1940', '91', '8104', '24', '251', '32', '170965', '170965', '57', '66', '61', '4799', '252', '2131', '17', '435', '3047', '19', '166', '2191', '22', '44', '556', '2192', '408', '26', '914', '25', '18542', '252', '170965', '170965', '437', '170965', '170965', '57', '284', '61', '9869', '252', '508', '635', '22', '537', '124', '2131', '25', '263', '189', '22', '2831', '25', '26', '177', '2561', '7748', '183', '349', '435', '423', '124', '390', '1942', '553', '86', '26', '467', '25', '2131', '252', '485', '189', '42', '349', '435', '1183', '22', '296', '124', '2131', '22', '486', '66', '1934', '22', '1935', '1936', '25', '2131', '44', '560', '179', '78', '185', '252', '57', '298', '61', '20097', '22', '17173', '252', '1118', '1277', '91', '19', '125', '179', '19', '195', '329', '19', '1041', '195', '1205', '25', '209', '1336', '314', '19', '6519', '195', '2255', '19', '17', '323', '51', '26', '2831', '124', '2131', '25', '26', '177', '849', '124', '263', '189', '252', '817', '252', '11950', '12091', '170965', '170965', '8104', '2098', '19', '208', '209', '210', '22', '520', '210', '91', '210', '397', '26', '292', '501', '19', '1193', '26', '1003', '25', '2131', '19', '91', '2382', '19', '1159', '19', '3677', '22', '636', '19', '195', '91', '871', '91', '206', '3646', '19', '1183', '19', '3654', '22', '296', '19', '390', '364', '714', '1333', '19', '14537', '19', '1957', '19', '858', '19', '6661', '19', '108', '25', '1182', '22', '971', '24', '205', '206', '753', '323', '51', '26', '11285', '7026', '19', '4161', '19', '13246', '19', '22', '7908', '91', '2131', '19', '195', '91', '78', '417', '22', '418', '19', '195', '51', '26', '87926', '19', '18455', '19', '1083', '22', '3536', '91', '4579', '25', '19', '209', '195', '390', '25', '26', '286', '252', '170965', '170965', '123', '252', '2673', '4483', '8104', '321', '206', '3674', '51', '1018', '25', '209', '150', '2545', '19', '20340', '538', '22', '1645', '643', '95', '205', '206', '1094', '91', '209', '549', '179', '500', '91', '26', '318', '22', '150', '25', '26', '286', '91', '2131', '252', '896', '252', '1695', '170965', '170965', '262', '26', '1124', '26', '2161', '2174', '176', '922', '86', '195', '375', '87', '633', '19', '30', '19', '2613', '549', '205', '208', '209', '210', '2531', '609', '263', '189', '1193', '1893', '25', '504', '1277', '91', '26', '400', '549', '252', '756', '1285', '25', '263', '92', '19', '2131', '321', '776', '777', '91', '8104', '209', '424', '430', '22', '400', '1911', '22', '4645', '296', '91', '2131', '44', '340', '179', '26', '947', '849', '124', '263', '189', '252', '170965', '170965', '1006', '252', '2017', '22', '2018', '485', '189', '321', '206', '1005', '1193', '22', '4257', '91', '26', '672', '25', '26', '417', '22', '418', '25', '26', '219', '252', '170965', '170965', '582', '170965', '170965', '1131', '252', '2022', '170965', '170965', '485', '189', '205', '206', '1183', '44', '209', '172', '25', '2023', '74', '305', '321', '732', '624', '22', '26', '1288', '542', '252', '170965', '170965', '956', '252', '3007', '5555', '170965', '170965', '485', '189', '321', '206', '2789', '124', '22', '1233', '44', '560', '179', '26', '914', '25', '26', '39', '25', '67', '19', '15718', '170965', '170965', '2073', '4303', '25', '4304', '4305', '4307', '2079', '170965', '170965', '530', '170965', '170965', '1472', '1473', '1474', '19', '26', '219', '1560', '183', '1183', '22', '296', '263', '189', '24', '25', '26', '292', '2081', '2082', '504', '252', '170965', '170965', '87915', '19', '5916', '252', '170965', '170965', '1397', '32', '170965', '170965', '1477', '7170', '4361', '79447', '170965', '170965', '2797', '32', '7170', '4361', '79447', '170965', '170965', '2798', '32', '3833', '2088', '2089', '22', '170965', '170965', '2090', '16398', '5867', '170965', '170965', '87916', '2105', '252', '170965', '170965', '1397', '32', '170965', '170965', '1477', '87927', '87928', '170965', '170965', '2797', '32', '87927', '87928', '170965', '170965', '2798', '32', '2089', '2118', '7283', '170965', '170965', '2073', '4318', '2094', '91', '2510', '2479', '189', '2079', '170965', '170965', '817', '170965', '170965', '3011', '904', '170965', '170965', '2952', '25', '1826', '25', '7163', '2566', '189', '170965', '170965', '9302', '16', '5090', '2809', '6', '170965', '170965', '485', '9302', '16', '5090', '2809', '6', '17', '18', '22', '1110', '21', '24', '25', '87', '2286', '19', '30', '19', '31', '87915', '19', '414', '19', '66', '67', '68', '57', '58', '87915', '60', '61', '19', '22', '87916', '4311', '19', '66', '18535', '68', '57', '58', '87916', '60', '61', '252', '170965', '170965', '103', '19', '87915', '22', '87916', '156', '219', '91', '26', '12698', '2566', '189', '57', '26', '58', '450', '87929', '60', '61', '282', '1782', '2992', '19', '2287', '19', '2456', '26', '2740', '23018', '44', '36130', '29644', '4310', '42954', '7663', '57', '58', '87918', '60', '61', '19', '24', '207', '124', '264', '371', '252', '254', '91', '7163', '2566', '189', '282', '4376', '88', '19', '2287', '57', '305', '179', '26', '188', '87929', '19', '26', '58', '87929', '60', '61', '102', '22', '170965', '170965', '103', '19', '87915', '22', '87916', '20', '21', '26', '2510', '2479', '189', '86', '87', '2984', '19', '30', '51', '87915', '91', '664', '22', '87916', '91', '911', '390', '87930', '168', '95', '87915', '492', '19', '22', '44', '340', '179', '26', '2544', '57', '24', '1554', '44', '364', '92', '61', '19', '87915', '22', '87916', '183', '222', '91', '1123', '21', '263', '1695', '25', '7163', '2566', '189', '102', '22', '170965', '170965', '103', '19', '87915', '22', '87916', '12215', '91', '609', '26', '87929', '90', '91', '461', '21599', '57', '66', '61', '25', '26', '188', '87929', '102', '170965', '170965', '240', '19', '241', '19', '26', '219', '683', '1561', '24', '251', '32', '170965', '170965', '127', '252', '1695', '170965', '170965', '508', '219', '683', '609', '26', '87929', '24', '26', '292', '501', '90', '91', '463', '940', '57', '66', '61', '25', '26', '188', '87929', '22', '249', '154', '26', '87929', '295', '457', '206', '25', '425', '714', '1933', '22', '1211', '252', '170965', '170965', '255', '252', '3007', '5555', '170965', '170965', '485', '1826', '321', '206', '2789', '124', '22', '1233', '44', '560', '179', '26', '914', '25', '26', '39', '25', '67', '19', '9378', '252', '170965', '170965', '2654', '252', '2022', '170965', '170965', '485', '1695', '205', '206', '1183', '44', '209', '172', '25', '2023', '19', '686', '25', '74', '321', '206', '1175', '36', '1002', '22', '390', '25', '74', '305', '321', '732', '624', '22', '26', '1288', '542', '252', '170965', '170965', '123', '170965', '170965', '1472', '1473', '1474', '19', '26', '219', '1560', '183', '1183', '22', '296', '263', '1826', '24', '25', '26', '292', '2081', '2082', '504', '252', '170965', '170965', '87915', '19', '5916', '252', '170965', '170965', '1397', '32', '170965', '170965', '2797', '32', '170965', '170965', '7170', '4361', '79447', '170965', '170965', '2798', '32', '170965', '170965', '1484', '2088', '2089', '170965', '170965', '22', '1483', '7296', '1485', '170965', '170965', '87916', '2105', '252', '170965', '170965', '1397', '32', '170965', '170965', '87927', '87928', '170965', '170965', '2089', '2118', '7283', '170965', '170965', '170965', '170965']\n"
          ],
          "name": "stdout"
        }
      ]
    },
    {
      "cell_type": "code",
      "metadata": {
        "id": "zORce46rVg6F",
        "colab_type": "code",
        "colab": {}
      },
      "source": [
        "import pickle"
      ],
      "execution_count": 0,
      "outputs": []
    },
    {
      "cell_type": "markdown",
      "metadata": {
        "id": "vP8CtGANDbbS",
        "colab_type": "text"
      },
      "source": [
        "Tagging and assigning categortiacl values to the contract elements "
      ]
    },
    {
      "cell_type": "code",
      "metadata": {
        "id": "UwhVLJ8ZVikh",
        "colab_type": "code",
        "colab": {}
      },
      "source": [
        "t={'0':0,'TIT':1,'CNP':2,'STD':3,'EFD':4,'TED':5,'PER':6,'VAL':7,'GOV':8,'JUR':9 ,'LEG':10}\n",
        "y=[[t[j[1:-1]] for j in i] for i in y]"
      ],
      "execution_count": 0,
      "outputs": []
    },
    {
      "cell_type": "code",
      "metadata": {
        "id": "QlBj5ufdVou3",
        "colab_type": "code",
        "colab": {}
      },
      "source": [
        "pickle.dump(X,open(\"Train\",\"wb\"))"
      ],
      "execution_count": 0,
      "outputs": []
    },
    {
      "cell_type": "code",
      "metadata": {
        "id": "clTPAKXRvbtD",
        "colab_type": "code",
        "colab": {}
      },
      "source": [
        "pickle.dump(y,open(\"Labels\",\"wb\"))"
      ],
      "execution_count": 0,
      "outputs": []
    },
    {
      "cell_type": "markdown",
      "metadata": {
        "id": "BoLQt4H9Dori",
        "colab_type": "text"
      },
      "source": [
        "Reading of the test dataset"
      ]
    },
    {
      "cell_type": "code",
      "metadata": {
        "id": "HGF8VVWQvjXj",
        "colab_type": "code",
        "colab": {}
      },
      "source": [
        "import glob   \n",
        "ele_c_tr=[]\n",
        "path = \"/content/drive/My Drive/ContractDataset/elements_contracts/test/*.stabilo\"\n",
        "files=glob.glob(path)   \n",
        "for file in files:     \n",
        "    f=open(file, 'r') \n",
        "    ele_c_tr.append(f.readlines())\n",
        "    f.close()"
      ],
      "execution_count": 0,
      "outputs": []
    },
    {
      "cell_type": "code",
      "metadata": {
        "id": "AA3E4BZDxLmb",
        "colab_type": "code",
        "colab": {}
      },
      "source": [
        "ele_c_tr=[[j.split() for j in i] for i in ele_c_tr]"
      ],
      "execution_count": 0,
      "outputs": []
    },
    {
      "cell_type": "code",
      "metadata": {
        "id": "-j3LS91syelL",
        "colab_type": "code",
        "colab": {}
      },
      "source": [
        "for i in ele_c_tr:\n",
        "    for j in i:\n",
        "        if j!= [] and '<' not in j[0]:\n",
        "            j.append(\"TOKEN_170965[0]\")"
      ],
      "execution_count": 0,
      "outputs": []
    },
    {
      "cell_type": "code",
      "metadata": {
        "id": "-l6enz-4yixn",
        "colab_type": "code",
        "colab": {}
      },
      "source": [
        "\n",
        "for j in range(1,len(ele_c_tr)):\n",
        "    ele_c_tr[j][0].append(\"TOKEN_170965[0]\")"
      ],
      "execution_count": 0,
      "outputs": []
    },
    {
      "cell_type": "code",
      "metadata": {
        "id": "-4oUQv0qvtkw",
        "colab_type": "code",
        "colab": {}
      },
      "source": [
        "import numpy as np"
      ],
      "execution_count": 0,
      "outputs": []
    },
    {
      "cell_type": "code",
      "metadata": {
        "id": "4Aqzh4CLyvlA",
        "colab_type": "code",
        "colab": {}
      },
      "source": [
        "zones=[]\n",
        "X=[]\n",
        "y=[]\n",
        "for i in ele_c_tr:\n",
        "    x=[]\n",
        "    Y=[]\n",
        "    z=[]\n",
        "    for j in i:\n",
        "        if j != [] and '<' not in j[0]:\n",
        "            for k in j:\n",
        "                x.append(k[6:k.find('[')])\n",
        "                Y.append(k[k.find('['):])\n",
        "        elif j!=[]:\n",
        "            z.append(j[0])\n",
        "            x.append(j[0])\n",
        "            Y.append(j[0])\n",
        "            \n",
        "    X.append(x)\n",
        "    y.append(Y)\n",
        "    zones.append(z)"
      ],
      "execution_count": 0,
      "outputs": []
    },
    {
      "cell_type": "code",
      "metadata": {
        "id": "XroLt335ykkD",
        "colab_type": "code",
        "colab": {}
      },
      "source": [
        "X=[[j for j in i if j.isnumeric() ]for i in X]"
      ],
      "execution_count": 0,
      "outputs": []
    },
    {
      "cell_type": "code",
      "metadata": {
        "id": "7jexCGAay28t",
        "colab_type": "code",
        "colab": {}
      },
      "source": [
        "\n",
        "y=[[j for j in i if '[' in j]for i in y]"
      ],
      "execution_count": 0,
      "outputs": []
    },
    {
      "cell_type": "code",
      "metadata": {
        "id": "vPxVQskgy8Js",
        "colab_type": "code",
        "colab": {}
      },
      "source": [
        "t={'0':0,'TIT':1,'CNP':2,'STD':3,'EFD':4,'TED':5,'PER':6,'VAL':7,'GOV':8,'JUR':9 ,'LEG':10}\n",
        "y=[[t[j[1:-1]] for j in i] for i in y]"
      ],
      "execution_count": 0,
      "outputs": []
    },
    {
      "cell_type": "code",
      "metadata": {
        "id": "kVjmZR4NzCiG",
        "colab_type": "code",
        "colab": {}
      },
      "source": [
        "pickle.dump(X,open(\"Test\",\"wb\"))"
      ],
      "execution_count": 0,
      "outputs": []
    },
    {
      "cell_type": "code",
      "metadata": {
        "id": "XgEIrW_pzba6",
        "colab_type": "code",
        "colab": {}
      },
      "source": [
        "\n",
        "pickle.dump(y,open(\"TLabels\",\"wb\"))"
      ],
      "execution_count": 0,
      "outputs": []
    },
    {
      "cell_type": "code",
      "metadata": {
        "id": "Q9YyyNhozlU3",
        "colab_type": "code",
        "colab": {}
      },
      "source": [
        "pickle.dump(zones,open(\"Tzones\",\"wb\"))"
      ],
      "execution_count": 0,
      "outputs": []
    },
    {
      "cell_type": "markdown",
      "metadata": {
        "id": "d_FTblH8Du-1",
        "colab_type": "text"
      },
      "source": [
        "Installing dependent keras library required-keras-contrib"
      ]
    },
    {
      "cell_type": "code",
      "metadata": {
        "id": "fx2xQoJw0kQv",
        "colab_type": "code",
        "colab": {
          "base_uri": "https://localhost:8080/",
          "height": 343
        },
        "outputId": "d24633dc-041e-4442-d3ef-51a41ce86f60"
      },
      "source": [
        "pip install git+https://www.github.com/keras-team/keras-contrib.git"
      ],
      "execution_count": 31,
      "outputs": [
        {
          "output_type": "stream",
          "text": [
            "Collecting git+https://www.github.com/keras-team/keras-contrib.git\n",
            "  Cloning https://www.github.com/keras-team/keras-contrib.git to /tmp/pip-req-build-32ap61x1\n",
            "  Running command git clone -q https://www.github.com/keras-team/keras-contrib.git /tmp/pip-req-build-32ap61x1\n",
            "Requirement already satisfied: keras in /usr/local/lib/python3.6/dist-packages (from keras-contrib==2.0.8) (2.3.1)\n",
            "Requirement already satisfied: six>=1.9.0 in /usr/local/lib/python3.6/dist-packages (from keras->keras-contrib==2.0.8) (1.12.0)\n",
            "Requirement already satisfied: pyyaml in /usr/local/lib/python3.6/dist-packages (from keras->keras-contrib==2.0.8) (3.13)\n",
            "Requirement already satisfied: h5py in /usr/local/lib/python3.6/dist-packages (from keras->keras-contrib==2.0.8) (2.10.0)\n",
            "Requirement already satisfied: keras-applications>=1.0.6 in /usr/local/lib/python3.6/dist-packages (from keras->keras-contrib==2.0.8) (1.0.8)\n",
            "Requirement already satisfied: scipy>=0.14 in /usr/local/lib/python3.6/dist-packages (from keras->keras-contrib==2.0.8) (1.4.1)\n",
            "Requirement already satisfied: keras-preprocessing>=1.0.5 in /usr/local/lib/python3.6/dist-packages (from keras->keras-contrib==2.0.8) (1.1.0)\n",
            "Requirement already satisfied: numpy>=1.9.1 in /usr/local/lib/python3.6/dist-packages (from keras->keras-contrib==2.0.8) (1.18.3)\n",
            "Building wheels for collected packages: keras-contrib\n",
            "  Building wheel for keras-contrib (setup.py) ... \u001b[?25l\u001b[?25hdone\n",
            "  Created wheel for keras-contrib: filename=keras_contrib-2.0.8-cp36-none-any.whl size=101064 sha256=458a38f00ddbb8d5376cf61d45b447b94334d07e6f6d7157768687c4db5e18db\n",
            "  Stored in directory: /tmp/pip-ephem-wheel-cache-dxmb5xq3/wheels/11/27/c8/4ed56de7b55f4f61244e2dc6ef3cdbaff2692527a2ce6502ba\n",
            "Successfully built keras-contrib\n",
            "Installing collected packages: keras-contrib\n",
            "Successfully installed keras-contrib-2.0.8\n"
          ],
          "name": "stdout"
        }
      ]
    },
    {
      "cell_type": "code",
      "metadata": {
        "id": "WcOLioqmzsl3",
        "colab_type": "code",
        "colab": {}
      },
      "source": [
        "import keras\n",
        "\n",
        "from keras.layers import LSTM,Embedding,Bidirectional,TimeDistributed,Dense\n",
        "from keras_contrib.layers import CRF\n",
        "import pickle\n",
        "from keras.optimizers import Adam\n",
        "import numpy as np\n",
        "from keras.layers import Input\n",
        "from keras.models import Model\n",
        "from keras.models import Sequential\n",
        "from keras.preprocessing.sequence import pad_sequences\n",
        "import pandas as pd"
      ],
      "execution_count": 0,
      "outputs": []
    },
    {
      "cell_type": "code",
      "metadata": {
        "id": "lzSbF14GaLiL",
        "colab_type": "code",
        "colab": {}
      },
      "source": [
        ""
      ],
      "execution_count": 0,
      "outputs": []
    },
    {
      "cell_type": "markdown",
      "metadata": {
        "id": "Y_-97-vRD4y7",
        "colab_type": "text"
      },
      "source": [
        "Definition of our network layer parameters"
      ]
    },
    {
      "cell_type": "code",
      "metadata": {
        "id": "lQKP54Sezxpw",
        "colab_type": "code",
        "colab": {}
      },
      "source": [
        "import numpy as np\n",
        "import keras\n",
        "\n",
        "class DataGenerator(keras.utils.Sequence):\n",
        "    'Generates data for Keras'\n",
        "    def __init__(self, tr, tr_y, batch_size=1,n_classes=12, shuffle=True):\n",
        "        'Initialization'\n",
        "        self.batch_size = batch_size\n",
        "        self.labels = tr_y\n",
        "        self.X=tr\n",
        "        self.n_classes = n_classes\n",
        "        self.shuffle = shuffle\n",
        "        self.on_epoch_end()\n",
        "\n",
        "    def __len__(self):\n",
        "        'Denotes the number of batches per epoch'\n",
        "        return len(self.X)\n",
        "\n",
        "    def __getitem__(self, index):\n",
        "        'Generate one batch of data'\n",
        "        # Generate indexes of the batch\n",
        "        indexes = self.indexes[index]\n",
        "\n",
        "        # Generate data\n",
        "        X, y = self.__data_generation(indexes)\n",
        "        return np.array([X]), np.array([y])\n",
        "\n",
        "    def on_epoch_end(self):\n",
        "        'Updates indexes after each epoch'\n",
        "        self.indexes = np.arange(len(self.X))\n",
        "        if self.shuffle == True:\n",
        "            np.random.shuffle(self.indexes)\n",
        "\n",
        "    def __data_generation(self, indexes):\n",
        "        'Generates data containing batch_size samples' # X : (n_samples, *dim, n_channels)\n",
        "        # Initialization\n",
        "        X = self.X[indexes]\n",
        "        X=[170965 if j==514370 else j for j in X]\n",
        "        #print(X.shape)\n",
        "        y = keras.utils.to_categorical(self.labels[indexes], num_classes=self.n_classes)\n",
        "        #print(y.shape)\n",
        "        \n",
        "        return X,y"
      ],
      "execution_count": 0,
      "outputs": []
    },
    {
      "cell_type": "code",
      "metadata": {
        "id": "jbAUc_iKzyUy",
        "colab_type": "code",
        "colab": {}
      },
      "source": [
        "class TDataGenerator(keras.utils.Sequence):\n",
        "    'Generates data for Keras'\n",
        "    def __init__(self, tr, batch_size=1,shuffle=False):\n",
        "        'Initialization'\n",
        "        self.batch_size = batch_size\n",
        "        self.X=tr\n",
        "        self.shuffle = shuffle\n",
        "        self.on_epoch_end()\n",
        "\n",
        "    def __len__(self):\n",
        "        'Denotes the number of batches per epoch'\n",
        "        return len(self.X)\n",
        "\n",
        "    def __getitem__(self, index):\n",
        "        'Generate one batch of data'\n",
        "        # Generate indexes of the batch\n",
        "        indexes = self.indexes[index]\n",
        "\n",
        "        # Generate data\n",
        "        X = self.__data_generation(indexes)\n",
        "        return np.array([X])\n",
        "\n",
        "    def on_epoch_end(self):\n",
        "        'Updates indexes after each epoch'\n",
        "        self.indexes = np.arange(len(self.X))\n",
        "        if self.shuffle == True:\n",
        "            np.random.shuffle(self.indexes)\n",
        "\n",
        "    def __data_generation(self, indexes):\n",
        "        'Generates data containing batch_size samples' # X : (n_samples, *dim, n_channels)\n",
        "        # Initialization\n",
        "        X = self.X[indexes]\n",
        "        X=[170965 if j==514370 else j for j in X]\n",
        "        #print(X.shape)\n",
        "            \n",
        "        return X"
      ],
      "execution_count": 0,
      "outputs": []
    },
    {
      "cell_type": "code",
      "metadata": {
        "id": "xTCU9qWv0yyR",
        "colab_type": "code",
        "colab": {}
      },
      "source": [
        "t={'0':0,'TIT':1,'CNP':2,'STD':3,'EFD':4,'TED':5,'PER':6,'VAL':7,'GOV':8,'JUR':9 ,'LEG':10,'HEAD':11}"
      ],
      "execution_count": 0,
      "outputs": []
    },
    {
      "cell_type": "code",
      "metadata": {
        "id": "aDmYoBiq07HX",
        "colab_type": "code",
        "colab": {}
      },
      "source": [
        "max_len=69593\n",
        "vocab_size=170965\n",
        "n_tags=len(t)"
      ],
      "execution_count": 0,
      "outputs": []
    },
    {
      "cell_type": "code",
      "metadata": {
        "id": "bsk0nfED08fT",
        "colab_type": "code",
        "colab": {}
      },
      "source": [
        "file=open(\"Train\",\"rb\")\n",
        "tr=pickle.load(file)"
      ],
      "execution_count": 0,
      "outputs": []
    },
    {
      "cell_type": "code",
      "metadata": {
        "id": "G6k6AwoJ1BtC",
        "colab_type": "code",
        "colab": {}
      },
      "source": [
        "file=open(\"Labels\",\"rb\")\n",
        "tr_y=pickle.load(file)"
      ],
      "execution_count": 0,
      "outputs": []
    },
    {
      "cell_type": "code",
      "metadata": {
        "id": "PtjQOpL51QTf",
        "colab_type": "code",
        "colab": {}
      },
      "source": [
        "#ourdict=[]\n",
        "#path = \"/content/drive/My Drive/ContractDataset/embd_wt.dms\"\n",
        "#f=open(path, 'r') \n",
        "#ourdict.append(f.readlines())\n",
        "#f.close()  \n",
        "#wt=pickle.load(open(\"embd_wt\",\"rb\"))\n",
        "\n",
        "wt=[]\n",
        "path = \"/content/drive/My Drive/ContractDataset/embd_wt.dms\"\n",
        "files=glob.glob(path)   \n",
        "for file in files:     \n",
        "    f=open(file, 'rb') \n",
        "    wt.append(f.readlines())\n",
        "    f.close()"
      ],
      "execution_count": 0,
      "outputs": []
    },
    {
      "cell_type": "code",
      "metadata": {
        "id": "-53jCMkc-7Bl",
        "colab_type": "code",
        "colab": {}
      },
      "source": [
        "import pandas as pd\n",
        "\n",
        "wt = pd.read_pickle(r'/content/drive/My Drive/ContractDataset/embd_wt.dms')"
      ],
      "execution_count": 0,
      "outputs": []
    },
    {
      "cell_type": "code",
      "metadata": {
        "id": "FsbNcGnQ_4m8",
        "colab_type": "code",
        "colab": {}
      },
      "source": [
        "wt=np.append([np.array([0 for i in range(225)])],wt,axis=0)"
      ],
      "execution_count": 0,
      "outputs": []
    },
    {
      "cell_type": "code",
      "metadata": {
        "id": "IDT972hxajWZ",
        "colab_type": "code",
        "colab": {}
      },
      "source": [
        ""
      ],
      "execution_count": 0,
      "outputs": []
    },
    {
      "cell_type": "markdown",
      "metadata": {
        "id": "fTN7yJnEEbqt",
        "colab_type": "text"
      },
      "source": [
        "Our model parameter settings"
      ]
    },
    {
      "cell_type": "code",
      "metadata": {
        "id": "A2wUqjk3Aae7",
        "colab_type": "code",
        "colab": {}
      },
      "source": [
        "input = Input(shape=(max_len,))\n",
        "model = Embedding(input_dim=vocab_size+1, output_dim=225,weights=[wt],\n",
        "                  input_length=max_len, mask_zero=False)(input)\n",
        "model = Bidirectional(LSTM(units=50, return_sequences=True,recurrent_dropout=0.1))(model)  # variational biLSTM\n",
        "model = TimeDistributed(Dense(50, activation=\"relu\"))(model)   #a dense layer as suggested by neuralNer\n",
        "crf = CRF(n_tags)  # CRF layer\n",
        "out=crf(model)\n",
        "\n",
        "\n"
      ],
      "execution_count": 0,
      "outputs": []
    },
    {
      "cell_type": "code",
      "metadata": {
        "id": "grt6vlB9iaUO",
        "colab_type": "code",
        "colab": {
          "base_uri": "https://localhost:8080/",
          "height": 34
        },
        "outputId": "671e5dc6-7456-4b80-b4fc-4de8e8074825"
      },
      "source": [
        "input"
      ],
      "execution_count": 57,
      "outputs": [
        {
          "output_type": "execute_result",
          "data": {
            "text/plain": [
              "<tf.Tensor 'input_2:0' shape=(None, 69593) dtype=float32>"
            ]
          },
          "metadata": {
            "tags": []
          },
          "execution_count": 57
        }
      ]
    },
    {
      "cell_type": "code",
      "metadata": {
        "id": "ECMDUnBwBQHd",
        "colab_type": "code",
        "colab": {}
      },
      "source": [
        "model = Model(input, out)"
      ],
      "execution_count": 0,
      "outputs": []
    },
    {
      "cell_type": "markdown",
      "metadata": {
        "id": "aVqzgnkwHj__",
        "colab_type": "text"
      },
      "source": [
        "Model Compilation"
      ]
    },
    {
      "cell_type": "code",
      "metadata": {
        "id": "N2PjQL42BYCN",
        "colab_type": "code",
        "colab": {
          "base_uri": "https://localhost:8080/",
          "height": 105
        },
        "outputId": "21883cfd-ad3e-49c2-c1bf-2282c27dc407"
      },
      "source": [
        "model.compile(optimizer=\"adam\", loss=crf.loss_function, metrics=[crf.accuracy])"
      ],
      "execution_count": 59,
      "outputs": [
        {
          "output_type": "stream",
          "text": [
            "/usr/local/lib/python3.6/dist-packages/keras_contrib/layers/crf.py:346: UserWarning: CRF.loss_function is deprecated and it might be removed in the future. Please use losses.crf_loss instead.\n",
            "  warnings.warn('CRF.loss_function is deprecated '\n",
            "/usr/local/lib/python3.6/dist-packages/keras_contrib/layers/crf.py:353: UserWarning: CRF.accuracy is deprecated and it might be removed in the future. Please use metrics.crf_accuracy\n",
            "  warnings.warn('CRF.accuracy is deprecated and it '\n"
          ],
          "name": "stderr"
        }
      ]
    },
    {
      "cell_type": "markdown",
      "metadata": {
        "id": "1oum9n09HoGn",
        "colab_type": "text"
      },
      "source": [
        "Model Summary"
      ]
    },
    {
      "cell_type": "code",
      "metadata": {
        "id": "CBf9Ah3LbTYX",
        "colab_type": "code",
        "colab": {
          "base_uri": "https://localhost:8080/",
          "height": 323
        },
        "outputId": "7d19a4b8-3f1a-4878-c51c-8c2b30107a16"
      },
      "source": [
        "model.summary()"
      ],
      "execution_count": 60,
      "outputs": [
        {
          "output_type": "stream",
          "text": [
            "Model: \"model_1\"\n",
            "_________________________________________________________________\n",
            "Layer (type)                 Output Shape              Param #   \n",
            "=================================================================\n",
            "input_2 (InputLayer)         (None, 69593)             0         \n",
            "_________________________________________________________________\n",
            "embedding_2 (Embedding)      (None, 69593, 225)        38467350  \n",
            "_________________________________________________________________\n",
            "bidirectional_2 (Bidirection (None, 69593, 100)        110400    \n",
            "_________________________________________________________________\n",
            "time_distributed_2 (TimeDist (None, 69593, 50)         5050      \n",
            "_________________________________________________________________\n",
            "crf_2 (CRF)                  (None, 69593, 12)         780       \n",
            "=================================================================\n",
            "Total params: 38,583,580\n",
            "Trainable params: 38,583,580\n",
            "Non-trainable params: 0\n",
            "_________________________________________________________________\n"
          ],
          "name": "stdout"
        }
      ]
    },
    {
      "cell_type": "code",
      "metadata": {
        "id": "XD73CN8gBd0U",
        "colab_type": "code",
        "colab": {}
      },
      "source": [
        "gen=DataGenerator(tr,tr_y)"
      ],
      "execution_count": 0,
      "outputs": []
    },
    {
      "cell_type": "code",
      "metadata": {
        "id": "QsU7KgUHhiEZ",
        "colab_type": "code",
        "colab": {}
      },
      "source": [
        "print (tr_y[5])"
      ],
      "execution_count": 0,
      "outputs": []
    },
    {
      "cell_type": "code",
      "metadata": {
        "id": "qMsyuoJbPfrv",
        "colab_type": "code",
        "colab": {}
      },
      "source": [
        "\n",
        " tr_y=np.array(tr_y)\n",
        " tr_y.shape"
      ],
      "execution_count": 0,
      "outputs": []
    },
    {
      "cell_type": "code",
      "metadata": {
        "id": "12RvVLXXQaCz",
        "colab_type": "code",
        "colab": {}
      },
      "source": [
        ""
      ],
      "execution_count": 0,
      "outputs": []
    },
    {
      "cell_type": "code",
      "metadata": {
        "id": "nM027rd8BpFd",
        "colab_type": "code",
        "colab": {}
      },
      "source": [
        "history = model.fit_generator(generator=gen, epochs=1,verbose=1)"
      ],
      "execution_count": 0,
      "outputs": []
    },
    {
      "cell_type": "code",
      "metadata": {
        "id": "VzcP4S-6-FcN",
        "colab_type": "code",
        "colab": {}
      },
      "source": [
        "from keras.models import load_model\n",
        "from keras_contrib.layers import CRF"
      ],
      "execution_count": 0,
      "outputs": []
    },
    {
      "cell_type": "code",
      "metadata": {
        "id": "CsAQA8ch-ZuH",
        "colab_type": "code",
        "colab": {}
      },
      "source": [
        "def create_custom_objects():\n",
        "    instanceHolder = {\"instance\": None}\n",
        "    class ClassWrapper(CRF):\n",
        "        def __init__(self, *args, **kwargs):\n",
        "            instanceHolder[\"instance\"] = self\n",
        "            super(ClassWrapper, self).__init__(*args, **kwargs)\n",
        "    def loss(*args):\n",
        "        method = getattr(instanceHolder[\"instance\"], \"loss_function\")\n",
        "        return method(*args)\n",
        "    def accuracy(*args):\n",
        "        method = getattr(instanceHolder[\"instance\"], \"accuracy\")\n",
        "        return method(*args)\n",
        "    return {\"ClassWrapper\": ClassWrapper ,\"CRF\": ClassWrapper, \"loss\": loss, \"accuracy\":accuracy}"
      ],
      "execution_count": 0,
      "outputs": []
    },
    {
      "cell_type": "code",
      "metadata": {
        "id": "XDnEldjk9sJJ",
        "colab_type": "code",
        "colab": {}
      },
      "source": [
        "model=load_model(\"/content/drive/My Drive/ContractDataset/Model3.h5\",custom_objects=create_custom_objects())"
      ],
      "execution_count": 0,
      "outputs": []
    },
    {
      "cell_type": "code",
      "metadata": {
        "id": "oPDUnD1J_ZgN",
        "colab_type": "code",
        "colab": {}
      },
      "source": [
        "\n",
        "test=pickle.load(open(\"Test\",\"rb\"))"
      ],
      "execution_count": 0,
      "outputs": []
    },
    {
      "cell_type": "code",
      "metadata": {
        "id": "t_lDcjtr_c9E",
        "colab_type": "code",
        "colab": {}
      },
      "source": [
        "tlabels=pickle.load(open(\"TLabels\",\"rb\"))"
      ],
      "execution_count": 0,
      "outputs": []
    },
    {
      "cell_type": "code",
      "metadata": {
        "id": "purrRssK_d4X",
        "colab_type": "code",
        "colab": {}
      },
      "source": [
        "zones=pickle.load(open(\"Tzones\",\"rb\"))"
      ],
      "execution_count": 0,
      "outputs": []
    },
    {
      "cell_type": "code",
      "metadata": {
        "id": "2o5SdU3Z_hDs",
        "colab_type": "code",
        "colab": {}
      },
      "source": [
        "test=pad_sequences(test, maxlen=max_len, dtype='int32', padding='post', truncating='post', value=0)"
      ],
      "execution_count": 0,
      "outputs": []
    },
    {
      "cell_type": "code",
      "metadata": {
        "id": "sAunLQCb_npY",
        "colab_type": "code",
        "colab": {}
      },
      "source": [
        "tlabels=pad_sequences(tlabels, maxlen=max_len, dtype='int32', padding='post', truncating='post', value=0)"
      ],
      "execution_count": 0,
      "outputs": []
    },
    {
      "cell_type": "code",
      "metadata": {
        "id": "9g-rg47Y_qba",
        "colab_type": "code",
        "colab": {}
      },
      "source": [
        "tgen=TDataGenerator(test)"
      ],
      "execution_count": 0,
      "outputs": []
    },
    {
      "cell_type": "code",
      "metadata": {
        "id": "HJ05Mv14_uGd",
        "colab_type": "code",
        "colab": {
          "base_uri": "https://localhost:8080/",
          "height": 34
        },
        "outputId": "ccd1b816-9cc7-4ada-e42a-ad2e3e925f60"
      },
      "source": [
        "pred=model.predict_generator(generator=tgen,steps=len(test),use_multiprocessing=True,workers=8,verbose=1)"
      ],
      "execution_count": 74,
      "outputs": [
        {
          "output_type": "stream",
          "text": [
            "350/350 [==============================] - 17049s 49s/step\n"
          ],
          "name": "stdout"
        }
      ]
    },
    {
      "cell_type": "code",
      "metadata": {
        "id": "kBQ6N864_xTn",
        "colab_type": "code",
        "colab": {}
      },
      "source": [
        "pred=[[np.argmax(j) for j in i]for i in pred]"
      ],
      "execution_count": 0,
      "outputs": []
    },
    {
      "cell_type": "code",
      "metadata": {
        "id": "yU0j0ibS_1p1",
        "colab_type": "code",
        "colab": {}
      },
      "source": [
        "true_y=tlabels.ravel()"
      ],
      "execution_count": 0,
      "outputs": []
    },
    {
      "cell_type": "code",
      "metadata": {
        "id": "4_7MovUG_5p3",
        "colab_type": "code",
        "colab": {}
      },
      "source": [
        "pred = np.array(pred).ravel()"
      ],
      "execution_count": 0,
      "outputs": []
    },
    {
      "cell_type": "code",
      "metadata": {
        "id": "i-Ep9s23AAEZ",
        "colab_type": "code",
        "colab": {}
      },
      "source": [
        "from sklearn.metrics import precision_recall_fscore_support as score\n",
        "from sklearn.metrics import accuracy_score"
      ],
      "execution_count": 0,
      "outputs": []
    },
    {
      "cell_type": "code",
      "metadata": {
        "id": "iChMqpE-AIF4",
        "colab_type": "code",
        "colab": {
          "base_uri": "https://localhost:8080/",
          "height": 34
        },
        "outputId": "34546de1-bede-4890-c79b-157c2d160f20"
      },
      "source": [
        "acc=accuracy_score(true_y,pred)\n",
        "acc"
      ],
      "execution_count": 79,
      "outputs": [
        {
          "output_type": "execute_result",
          "data": {
            "text/plain": [
              "0.15815318043070833"
            ]
          },
          "metadata": {
            "tags": []
          },
          "execution_count": 79
        }
      ]
    },
    {
      "cell_type": "code",
      "metadata": {
        "id": "Ttgab7fDAOn0",
        "colab_type": "code",
        "colab": {
          "base_uri": "https://localhost:8080/",
          "height": 241
        },
        "outputId": "7d05422f-4ab7-47ab-d70d-5f314fc1c28e"
      },
      "source": [
        "precision, recall, fscore, support = score(true_y, pred)\n",
        "\n",
        "print('precision: {}'.format(precision))\n",
        "print('recall: {}'.format(recall))\n",
        "print('fscore: {}'.format(fscore))\n",
        "print('support: {}'.format(support))"
      ],
      "execution_count": 80,
      "outputs": [
        {
          "output_type": "stream",
          "text": [
            "precision: [9.99254284e-01 0.00000000e+00 3.25732899e-04 4.29862576e-05\n",
            " 8.29240408e-06 3.82822936e-05 6.34000543e-05 4.86089016e-05\n",
            " 1.06679439e-04 4.15496068e-05 1.69351171e-04 0.00000000e+00]\n",
            "recall: [0.15824088 0.         0.00019433 0.13962264 0.06365503 0.06643357\n",
            " 0.056      0.03216374 0.02309142 0.06651481 0.11180568 0.        ]\n",
            "fscore: [2.73215616e-01 0.00000000e+00 2.43427459e-04 8.59460547e-05\n",
            " 1.65826479e-05 7.65204924e-05 1.26656715e-04 9.70711002e-05\n",
            " 2.12377720e-04 8.30473367e-05 3.38190089e-04 0.00000000e+00]\n",
            "support: [24337213     2585     5146     1325      487      286      250      342\n",
            "     2122     2195     5599        0]\n"
          ],
          "name": "stdout"
        },
        {
          "output_type": "stream",
          "text": [
            "/usr/local/lib/python3.6/dist-packages/sklearn/metrics/_classification.py:1272: UndefinedMetricWarning: Recall and F-score are ill-defined and being set to 0.0 in labels with no true samples. Use `zero_division` parameter to control this behavior.\n",
            "  _warn_prf(average, modifier, msg_start, len(result))\n"
          ],
          "name": "stderr"
        }
      ]
    },
    {
      "cell_type": "code",
      "metadata": {
        "id": "96sTbVmbARml",
        "colab_type": "code",
        "colab": {
          "base_uri": "https://localhost:8080/",
          "height": 204
        },
        "outputId": "d8b2a4cd-9c4e-4333-97bf-8605faedcf67"
      },
      "source": [
        "keys=list(t.keys())\n",
        "for i in range(11):\n",
        "    print(keys[i],precision[i],recall[i],fscore[i],support[i])\n",
        "    "
      ],
      "execution_count": 81,
      "outputs": [
        {
          "output_type": "stream",
          "text": [
            "0 0.9992542843620784 0.15824087992326813 0.27321561610527867 24337213\n",
            "TIT 0.0 0.0 0.0 2585\n",
            "CNP 0.0003257328990228013 0.000194325689856199 0.000243427458617332 5146\n",
            "STD 4.2986257641969084e-05 0.13962264150943396 8.594605468120286e-05 1325\n",
            "EFD 8.292404077615833e-06 0.06365503080082136 1.6582647917219423e-05 487\n",
            "TED 3.8282293633251595e-05 0.06643356643356643 7.652049238923154e-05 286\n",
            "PER 6.340005434290372e-05 0.056 0.00012665671506762564 250\n",
            "VAL 4.860890161558313e-05 0.03216374269005848 9.70711001685507e-05 342\n",
            "GOV 0.00010667943917094836 0.023091423185673893 0.00021237772027687122 2122\n",
            "JUR 4.154960681550153e-05 0.06651480637813212 8.30473366975089e-05 2195\n",
            "LEG 0.00016935117129600447 0.11180567958564029 0.0003381900887613923 5599\n"
          ],
          "name": "stdout"
        }
      ]
    },
    {
      "cell_type": "code",
      "metadata": {
        "id": "_AmhhbvdAbLI",
        "colab_type": "code",
        "colab": {}
      },
      "source": [
        "model1score={\"Precision\":precision,\"Recall\":recall,\"F1-score\":fscore,\"Support\":support}\n",
        "pickle.dump(model1score,open(\"score\",\"wb\"))\n",
        "model1score[\"Id\"]=list(t.keys())\n",
        "pd.DataFrame.from_dict(score)"
      ],
      "execution_count": 0,
      "outputs": []
    }
  ]
}
